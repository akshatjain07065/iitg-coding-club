{
 "cells": [
  {
   "cell_type": "markdown",
   "metadata": {},
   "source": [
    "# Task 2"
   ]
  },
  {
   "cell_type": "code",
   "execution_count": 5,
   "metadata": {},
   "outputs": [
    {
     "name": "stdout",
     "output_type": "stream",
     "text": [
      "               ID Segment type Segment Description Answer        Count  \\\n",
      "0     292890.8970          web     Meridian, Idaho     No     0.000000   \n",
      "1     292887.9870          web     Meridian, Idaho     No     0.000000   \n",
      "2     292894.0656       gender     Meridian, Idaho     No   499.173606   \n",
      "3     292887.1180          web     Meridian, Idaho     No     0.000000   \n",
      "4     292893.6561       gender     Meridian, Idaho     No   455.925963   \n",
      "...           ...          ...                 ...    ...          ...   \n",
      "1891  292887.5496          web     Meridian, Idaho     No     0.000000   \n",
      "1892  292881.6932       mobile     Meridian, Idaho     No  1203.190399   \n",
      "1893  292900.8499       gender     Meridian, Idaho     No   806.378820   \n",
      "1894  292893.8600       gender     Meridian, Idaho     No  1149.529381   \n",
      "1895  292890.2944          web     Meridian, Idaho     No     0.000000   \n",
      "\n",
      "      Percentage  It became a relationship  \n",
      "0       0.000000                         0  \n",
      "1       0.000000                         0  \n",
      "2       0.225255                         0  \n",
      "3       0.000000                         0  \n",
      "4       0.211360                         0  \n",
      "...          ...                       ...  \n",
      "1891    0.000000                         0  \n",
      "1892    0.312360                         0  \n",
      "1893    0.488025                         0  \n",
      "1894    0.488984                         0  \n",
      "1895    0.000000                         0  \n",
      "\n",
      "[1896 rows x 7 columns]\n"
     ]
    }
   ],
   "source": [
    "import pandas as pd\n",
    "fn = r\"E:\\akshat extras\\coding club iitg task\\drive-download-20210517T141317Z-001\\task2.csv\"\n",
    "df = pd.read_csv(fn)\n",
    "print(df)\n",
    "from sklearn import preprocessing\n",
    "le = preprocessing.LabelEncoder()\n",
    "df = df.apply(le.fit_transform)\n",
    "df = df.astype(float)\n",
    "\n"
   ]
  },
  {
   "cell_type": "code",
   "execution_count": 7,
   "metadata": {},
   "outputs": [
    {
     "name": "stdout",
     "output_type": "stream",
     "text": [
      "      ID  Segment type  Segment Description  Answer  Count  Percentage  \\\n",
      "0    833             3                   46       1      0           0   \n",
      "1    440             3                   46       1      0           0   \n",
      "2    948             0                   46       1    275         157   \n",
      "3    324             3                   46       1      0           0   \n",
      "4    929             0                   46       1    201         100   \n",
      "5   1072             0                   46       1    959        1095   \n",
      "6    653             3                   46       1      0           0   \n",
      "7   1599             2                  109       2     28         650   \n",
      "8     17             1                   46       1    688         173   \n",
      "9    646             3                   46       1      0           0   \n",
      "10   747             3                   46       1      0           0   \n",
      "11  1377             0                   46       1    191         394   \n",
      "12   880             0                   46       1    983         893   \n",
      "13   365             3                   46       1      0           0   \n",
      "14  1176             0                   46       1    831        1068   \n",
      "15   233             1                   46       1   1050         724   \n",
      "16  1410             0                   46       1    323         588   \n",
      "17   623             3                   46       1      0           0   \n",
      "18  1479             2                  136       1    150        1121   \n",
      "19  1439             2                   93       2     93          51   \n",
      "\n",
      "    It became a relationship  \n",
      "0                          0  \n",
      "1                          0  \n",
      "2                          0  \n",
      "3                          0  \n",
      "4                          0  \n",
      "5                          0  \n",
      "6                          0  \n",
      "7                          0  \n",
      "8                          0  \n",
      "9                          0  \n",
      "10                         0  \n",
      "11                         0  \n",
      "12                         0  \n",
      "13                         0  \n",
      "14                         0  \n",
      "15                         0  \n",
      "16                         0  \n",
      "17                         0  \n",
      "18                         0  \n",
      "19                         1  \n"
     ]
    }
   ],
   "source": [
    "df.isnull().sum()\n",
    "df.fillna(0)\n",
    "\n",
    "print(df.head(20))"
   ]
  },
  {
   "cell_type": "code",
   "execution_count": 8,
   "metadata": {},
   "outputs": [
    {
     "name": "stdout",
     "output_type": "stream",
     "text": [
      "(1422, 6)\n",
      "(474, 6)\n",
      "(1422, 1)\n",
      "(474, 1)\n"
     ]
    }
   ],
   "source": [
    "\n",
    "from sklearn.model_selection import train_test_split\n",
    "X = df.iloc[:, :-1].values\n",
    "Y = df.iloc[:, -1].values\n",
    "\n",
    "x_train, x_test, y_train, y_test = train_test_split(X, Y, random_state=2)\n",
    "x_train= pd.DataFrame(x_train)\n",
    "x_test = pd.DataFrame(x_test)\n",
    "y_train = pd.DataFrame(y_train)\n",
    "y_test = pd.DataFrame(y_test)\n",
    "\n",
    "\n",
    "print(x_train.shape)\n",
    "print(x_test.shape)\n",
    "print(y_train.shape)\n",
    "print(y_test.shape)"
   ]
  },
  {
   "cell_type": "code",
   "execution_count": 18,
   "metadata": {},
   "outputs": [],
   "source": [
    "#using Support Vector Classifier and a K-Nearest Neighbors Classifier\n",
    "\n",
    "from sklearn.metrics import classification_report\n",
    "from sklearn.metrics import confusion_matrix\n",
    "from sklearn.metrics import accuracy_score\n",
    "from sklearn.neighbors import KNeighborsClassifier\n",
    "from sklearn import svm\n",
    "\n",
    "from sklearn.svm import SVC\n",
    "SVC_model = svm.SVC()\n",
    "n = 5\n",
    "KNN_model = KNeighborsClassifier(n_neighbors= n)"
   ]
  },
  {
   "cell_type": "code",
   "execution_count": 19,
   "metadata": {},
   "outputs": [
    {
     "data": {
      "text/plain": [
       "KNeighborsClassifier()"
      ]
     },
     "execution_count": 19,
     "metadata": {},
     "output_type": "execute_result"
    }
   ],
   "source": [
    "\n",
    "KNN_model.fit(x_train, y_train.values.ravel())"
   ]
  },
  {
   "cell_type": "code",
   "execution_count": 20,
   "metadata": {},
   "outputs": [
    {
     "data": {
      "text/plain": [
       "SVC()"
      ]
     },
     "execution_count": 20,
     "metadata": {},
     "output_type": "execute_result"
    }
   ],
   "source": [
    "SVC_model.fit(x_train, y_train.values.ravel())\n"
   ]
  },
  {
   "cell_type": "code",
   "execution_count": 21,
   "metadata": {},
   "outputs": [],
   "source": [
    "SVC_prediction = SVC_model.predict(x_test)\n",
    "KNN_prediction = KNN_model.predict(x_test)"
   ]
  },
  {
   "cell_type": "code",
   "execution_count": 24,
   "metadata": {},
   "outputs": [
    {
     "name": "stdout",
     "output_type": "stream",
     "text": [
      "[[251  30]\n",
      " [ 44 149]]\n",
      "              precision    recall  f1-score   support\n",
      "\n",
      "           0       0.85      0.89      0.87       281\n",
      "           1       0.83      0.77      0.80       193\n",
      "\n",
      "    accuracy                           0.84       474\n",
      "   macro avg       0.84      0.83      0.84       474\n",
      "weighted avg       0.84      0.84      0.84       474\n",
      "\n",
      "[[270  26]\n",
      " [ 25 153]]\n",
      "              precision    recall  f1-score   support\n",
      "\n",
      "           0       0.92      0.91      0.91       296\n",
      "           1       0.85      0.86      0.86       178\n",
      "\n",
      "    accuracy                           0.89       474\n",
      "   macro avg       0.89      0.89      0.89       474\n",
      "weighted avg       0.89      0.89      0.89       474\n",
      "\n",
      "accuracy achieved with support vector classifier 0.8438818565400844\n",
      "accuracy achieved with K-Nearest Neighbors Classifier 0.8924050632911392\n"
     ]
    }
   ],
   "source": [
    "\n",
    "print(confusion_matrix(SVC_prediction, y_test))\n",
    "print(classification_report(SVC_prediction, y_test))\n",
    "\n",
    "print(confusion_matrix(KNN_prediction, y_test))\n",
    "print(classification_report(KNN_prediction, y_test))\n",
    "\n",
    "print(\"accuracy achieved with support vector classifier\",accuracy_score(SVC_prediction, y_test))\n",
    "print(\"accuracy achieved with K-Nearest Neighbors Classifier\",accuracy_score(KNN_prediction, y_test))"
   ]
  },
  {
   "cell_type": "code",
   "execution_count": null,
   "metadata": {},
   "outputs": [],
   "source": []
  },
  {
   "cell_type": "code",
   "execution_count": null,
   "metadata": {},
   "outputs": [],
   "source": []
  }
 ],
 "metadata": {
  "kernelspec": {
   "display_name": "Python 3",
   "language": "python",
   "name": "python3"
  },
  "language_info": {
   "codemirror_mode": {
    "name": "ipython",
    "version": 3
   },
   "file_extension": ".py",
   "mimetype": "text/x-python",
   "name": "python",
   "nbconvert_exporter": "python",
   "pygments_lexer": "ipython3",
   "version": "3.8.5"
  }
 },
 "nbformat": 4,
 "nbformat_minor": 4
}
